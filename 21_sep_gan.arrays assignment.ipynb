{
 "cells": [
  {
   "cell_type": "markdown",
   "id": "0b832ed9-52e1-45a1-a209-f0fe83f067fe",
   "metadata": {},
   "source": [
    "## Arrays assignment"
   ]
  },
  {
   "cell_type": "markdown",
   "id": "2e2b46fd-b527-478e-8bd6-8194a7ce4207",
   "metadata": {},
   "source": [
    "## 1. Given an array, check if it contains any duplicates or not.\n",
    "## arr = [1, 2, 4, 2, 5, 9]\n",
    "## Output = True"
   ]
  },
  {
   "cell_type": "code",
   "execution_count": 1,
   "id": "1827f159-6c99-4939-99c6-3ef1a48aca6d",
   "metadata": {},
   "outputs": [
    {
     "name": "stdout",
     "output_type": "stream",
     "text": [
      "True\n"
     ]
    }
   ],
   "source": [
    "def contains_duplicates(arr):\n",
    "    seen = set()\n",
    "    for num in arr:\n",
    "        if num in seen:\n",
    "            return True\n",
    "        seen.add(num)\n",
    "    return False\n",
    "\n",
    "arr = [1, 2, 4, 2, 5, 9]\n",
    "output = contains_duplicates(arr)\n",
    "print(output)  # Output will be True"
   ]
  },
  {
   "cell_type": "markdown",
   "id": "9ea4be34-5069-4be9-826d-293a4330cd8d",
   "metadata": {},
   "source": [
    "## 2. Given an array and an integer k, rotate the array to the right by k steps.\n",
    "## arr = [1, 2, 3, 4, 5, 6, 7] k = 3\n",
    "## Output = [5, 6, 7, 1, 2, 3, 4]"
   ]
  },
  {
   "cell_type": "code",
   "execution_count": 2,
   "id": "7c34cda5-5676-4854-b74c-e5d83eed0448",
   "metadata": {},
   "outputs": [
    {
     "name": "stdout",
     "output_type": "stream",
     "text": [
      "Rotated Array: [5, 6, 7, 1, 2, 3, 4]\n"
     ]
    }
   ],
   "source": [
    "def rotate_array(nums, k):\n",
    "    n = len(nums)\n",
    "    k = k % n  # To handle k values larger than the array length\n",
    "    nums[:] = nums[-k:] + nums[:-k]\n",
    "\n",
    "# Input array and value of k\n",
    "arr = [1, 2, 3, 4, 5, 6, 7]\n",
    "k = 3\n",
    "\n",
    "# Rotate the array to the right by k steps\n",
    "rotate_array(arr, k)\n",
    "\n",
    "# Print the rotated array\n",
    "print(\"Rotated Array:\", arr)\n"
   ]
  },
  {
   "cell_type": "markdown",
   "id": "18629c6d-f1d5-4f3a-a141-f48cf363b5d6",
   "metadata": {},
   "source": [
    "## 3. Reverse the given array in-place, means without using any extra data structure.\n",
    "## arr = [2, 4, 5, 7, 9, 12]\n",
    "## Output = [12, 9, 7, 5, 4, 2]"
   ]
  },
  {
   "cell_type": "code",
   "execution_count": 3,
   "id": "608e468d-7123-46e7-b2fc-29be7bf4f3d5",
   "metadata": {},
   "outputs": [
    {
     "name": "stdout",
     "output_type": "stream",
     "text": [
      "Reversed Array: [12, 9, 7, 5, 4, 2]\n"
     ]
    }
   ],
   "source": [
    "def reverse_array_in_place(arr):\n",
    "    start = 0\n",
    "    end = len(arr) - 1\n",
    "\n",
    "    while start < end:\n",
    "        # Swap elements at start and end indices\n",
    "        arr[start], arr[end] = arr[end], arr[start]\n",
    "\n",
    "        # Move the indices inward\n",
    "        start += 1\n",
    "        end -= 1\n",
    "\n",
    "# Input array\n",
    "arr = [2, 4, 5, 7, 9, 12]\n",
    "\n",
    "# Reverse the array in-place\n",
    "reverse_array_in_place(arr)\n",
    "\n",
    "# Print the reversed array\n",
    "print(\"Reversed Array:\", arr)\n"
   ]
  },
  {
   "cell_type": "markdown",
   "id": "7f78ba7e-9fbb-46b6-a63f-b09c6871c7f9",
   "metadata": {},
   "source": [
    "## 4. Given an array of integers, find the maximum element in an array\n",
    "## arr = [10, 5, 20, 8, 15]\n",
    "## Output = 20"
   ]
  },
  {
   "cell_type": "code",
   "execution_count": 4,
   "id": "b15313ed-bde5-4976-bb33-2b44508867c7",
   "metadata": {},
   "outputs": [
    {
     "name": "stdout",
     "output_type": "stream",
     "text": [
      "Maximum Element: 20\n"
     ]
    }
   ],
   "source": [
    "# Input array\n",
    "arr = [10, 5, 20, 8, 15]\n",
    "\n",
    "# Find the maximum element in the array\n",
    "max_element = max(arr)\n",
    "\n",
    "# Print the maximum element\n",
    "print(\"Maximum Element:\", max_element)\n"
   ]
  },
  {
   "cell_type": "markdown",
   "id": "3b23918f-d7cc-4294-bc04-0231ac03ff06",
   "metadata": {},
   "source": [
    "## 5. Given a sorted array, remove the duplicate element without using any extra data structure.\n",
    "## arr = [1, 1, 2, 2, 2, 3, 3, 4, 4, 4, 5, 5]\n",
    "## Output = [1, 2, 3, 4, 5]"
   ]
  },
  {
   "cell_type": "code",
   "execution_count": 5,
   "id": "8153f923-c72a-4c63-b163-33ab6bca041c",
   "metadata": {},
   "outputs": [
    {
     "name": "stdout",
     "output_type": "stream",
     "text": [
      "Array with Duplicates Removed: [1, 2, 3, 4, 5]\n"
     ]
    }
   ],
   "source": [
    "def remove_duplicates(arr):\n",
    "    if not arr:\n",
    "        return []\n",
    "\n",
    "    new_length = 1  # Length of the modified array, assuming at least one element is present\n",
    "\n",
    "    for i in range(1, len(arr)):\n",
    "        if arr[i] != arr[i - 1]:\n",
    "            arr[new_length] = arr[i]\n",
    "            new_length += 1\n",
    "\n",
    "    return arr[:new_length]\n",
    "\n",
    "# Input sorted array\n",
    "arr = [1, 1, 2, 2, 2, 3, 3, 4, 4, 4, 5, 5]\n",
    "\n",
    "# Remove duplicate elements in-place\n",
    "result = remove_duplicates(arr)\n",
    "\n",
    "# Print the modified array without duplicates\n",
    "print(\"Array with Duplicates Removed:\", result)\n"
   ]
  },
  {
   "cell_type": "code",
   "execution_count": null,
   "id": "1021b0b5-c317-4e44-8b2e-2f75ad7418e7",
   "metadata": {},
   "outputs": [],
   "source": []
  }
 ],
 "metadata": {
  "kernelspec": {
   "display_name": "Python 3 (ipykernel)",
   "language": "python",
   "name": "python3"
  },
  "language_info": {
   "codemirror_mode": {
    "name": "ipython",
    "version": 3
   },
   "file_extension": ".py",
   "mimetype": "text/x-python",
   "name": "python",
   "nbconvert_exporter": "python",
   "pygments_lexer": "ipython3",
   "version": "3.10.8"
  }
 },
 "nbformat": 4,
 "nbformat_minor": 5
}
